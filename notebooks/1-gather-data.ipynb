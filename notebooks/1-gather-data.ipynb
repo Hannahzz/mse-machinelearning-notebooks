{
 "cells": [
  {
   "cell_type": "markdown",
   "metadata": {},
   "source": [
    "# Gathering and Investigating Materials Project Data\n",
    "\n",
    "This notebooks will show how you can use `requests` and `pandas` so gather and explore your data. Often times you will need to suply your data by other methods."
   ]
  },
  {
   "cell_type": "code",
   "execution_count": 17,
   "metadata": {},
   "outputs": [],
   "source": [
    "import requests\n",
    "import pandas as pd\n",
    "\n",
    "base_url = 'https://materialsproject.org/rest/v2/'"
   ]
  },
  {
   "cell_type": "markdown",
   "metadata": {},
   "source": [
    "# Getting Materials Project Api Key\n",
    "\n",
    "This [link](https://www.materialsproject.org/open) details the steps necissary. \n",
    "\n",
    "1. Visit [dashboard](https://materialsproject.org/dashboard) you may need to login\n",
    "2. Generate API key if it has not already been generated and set `API_KEY` to this value.\n",
    "\n",
    "The subprocess method is a way that I store my passwords on my computer and will not work for you.\n",
    "\n",
    "Afterwards in the next cell we will test that our API key works. \n",
    "\n",
    "This is done by performing a `GET` or `POST` request to `https://www.materialsproject.org/rest/v1/api_check`."
   ]
  },
  {
   "cell_type": "code",
   "execution_count": 18,
   "metadata": {},
   "outputs": [],
   "source": [
    "import subprocess\n",
    "API_KEY = subprocess.check_output('gopass www/materialsproject.com apikey'.split()).decode('utf-8')\n",
    "# API_KEY = \"<apikey-here>\"\n",
    "\n",
    "session = requests.Session()\n",
    "session.headers.update({'X-API-KEY': API_KEY})"
   ]
  },
  {
   "cell_type": "code",
   "execution_count": 22,
   "metadata": {},
   "outputs": [
    {
     "name": "stdout",
     "output_type": "stream",
     "text": [
      "{'valid_response': True, 'api_key_valid': True}\n"
     ]
    }
   ],
   "source": [
    "# for some reason the v2 API does not include an API check method??\n",
    "response = session.get(f'https://www.materialsproject.org/rest/v1/api_check')\n",
    "data = response.json()\n",
    "print(data)\n",
    "\n",
    "if not data['api_key_valid']:\n",
    "    raise ValueError('You are not authenticated!')"
   ]
  },
  {
   "cell_type": "markdown",
   "metadata": {},
   "source": [
    "# Materials Project API\n",
    "\n",
    "The materials project provides a RESTfull API for getting material properties which is detailed [here](https://www.materialsproject.org/docs/api#materials_.28calculated_materials_data.29).\n",
    "\n",
    "If you have followed the steps above you should be ready to parse materials project data.\n",
    "\n",
    "A RESTfull API is a nice way to expose data over the web. While they provide convenient methods for getting each individual material property they have a limit of 500 queries per day so we need to be efficient in our queries. To do this we will use the `npquery` to get properties in batch.\n",
    "\n",
    "Lets start by getting a list of materials that are compossed of the following elements `Fe`, `Ti`, `O`, `C`, `N`, `He`. This does not affect your API limit"
   ]
  },
  {
   "cell_type": "code",
   "execution_count": 38,
   "metadata": {},
   "outputs": [],
   "source": [
    "def get_materials(elements):\n",
    "    elements_str = '-'.join(elements)\n",
    "    response = session.get(f'{base_url}/materials/{elements_str}/mids')\n",
    "    data = response.json()\n",
    "    print(f'Found {len(data[\"response\"])} Materials in the Materials Project with the elements: {elements}')\n",
    "    return data['response']\n",
    "\n",
    "def get_material_vasp_properties(mid):\n",
    "    response = session.get(f'{base_url}/materials/{mid}/vasp/')\n",
    "    data = response.json()\n",
    "    return data['response']"
   ]
  },
  {
   "cell_type": "code",
   "execution_count": 39,
   "metadata": {},
   "outputs": [
    {
     "name": "stdout",
     "output_type": "stream",
     "text": [
      "Found 253 Materials in the Materials Project with the elements: ['Fe', 'O', 'Ni', 'He', 'Ni', 'Cu']\n"
     ]
    }
   ],
   "source": [
    "material_ids = get_materials(['Fe', 'O', 'Ni', 'He', 'Ni', 'Cu'])"
   ]
  },
  {
   "cell_type": "code",
   "execution_count": 40,
   "metadata": {},
   "outputs": [],
   "source": [
    "material_id = material_ids[0]"
   ]
  },
  {
   "cell_type": "code",
   "execution_count": 41,
   "metadata": {},
   "outputs": [
    {
     "data": {
      "text/plain": [
       "'mp-998890'"
      ]
     },
     "execution_count": 41,
     "metadata": {},
     "output_type": "execute_result"
    }
   ],
   "source": [
    "material_id"
   ]
  },
  {
   "cell_type": "code",
   "execution_count": 42,
   "metadata": {},
   "outputs": [
    {
     "data": {
      "text/plain": [
       "[{'energy': -4.0645998,\n",
       "  'energy_per_atom': -4.0645998,\n",
       "  'volume': 11.852765009390795,\n",
       "  'formation_energy_per_atom': 0.03469247000000042,\n",
       "  'nsites': 1,\n",
       "  'unit_cell_formula': {'Cu': 1.0},\n",
       "  'pretty_formula': 'Cu',\n",
       "  'is_hubbard': False,\n",
       "  'elements': ['Cu'],\n",
       "  'nelements': 1,\n",
       "  'e_above_hull': 0.03469247000000042,\n",
       "  'hubbards': {},\n",
       "  'is_compatible': True,\n",
       "  'spacegroup': {'source': 'spglib',\n",
       "   'symbol': 'Im-3m',\n",
       "   'number': 229,\n",
       "   'point_group': 'm-3m',\n",
       "   'crystal_system': 'cubic',\n",
       "   'hall': '-I 4 2 3'},\n",
       "  'task_ids': ['mp-998890',\n",
       "   'mp-998895',\n",
       "   'mp-998898',\n",
       "   'mp-998906',\n",
       "   'mp-1056211',\n",
       "   'mp-1056219',\n",
       "   'mp-1056226',\n",
       "   'mp-1056233'],\n",
       "  'band_gap': 0.0,\n",
       "  'density': 8.902615866613178,\n",
       "  'icsd_id': None,\n",
       "  'icsd_ids': [183263],\n",
       "  'cif': \"# generated using pymatgen\\ndata_Cu\\n_symmetry_space_group_name_H-M   'P 1'\\n_cell_length_a   2.48779079\\n_cell_length_b   2.48779079\\n_cell_length_c   2.48779079\\n_cell_angle_alpha   109.47122063\\n_cell_angle_beta   109.47122063\\n_cell_angle_gamma   109.47122063\\n_symmetry_Int_Tables_number   1\\n_chemical_formula_structural   Cu\\n_chemical_formula_sum   Cu1\\n_cell_volume   11.85276501\\n_cell_formula_units_Z   1\\nloop_\\n _symmetry_equiv_pos_site_id\\n _symmetry_equiv_pos_as_xyz\\n  1  'x, y, z'\\nloop_\\n _atom_site_type_symbol\\n _atom_site_label\\n _atom_site_symmetry_multiplicity\\n _atom_site_fract_x\\n _atom_site_fract_y\\n _atom_site_fract_z\\n _atom_site_occupancy\\n  Cu  Cu1  1  0.000000  0.000000  0.000000  1\\n\",\n",
       "  'total_magnetization': -7e-07,\n",
       "  'material_id': 'mp-998890',\n",
       "  'oxide_type': 'None',\n",
       "  'tags': ['Copper', 'High pressure experimental phase'],\n",
       "  'elasticity': {'G_Reuss': -17.960241741427517,\n",
       "   'G_VRH': 19.06895589595666,\n",
       "   'G_Voigt': 56.098153533340835,\n",
       "   'G_Voigt_Reuss_Hill': 19.06895589595666,\n",
       "   'K_Reuss': 145.87229552135727,\n",
       "   'K_VRH': 145.87229552135733,\n",
       "   'K_Voigt': 145.87229552135736,\n",
       "   'K_Voigt_Reuss_Hill': 145.87229552135733,\n",
       "   'elastic_anisotropy': -20.617315830427692,\n",
       "   'elastic_tensor': [[137.0, 150.0, 150.0, -0.0, 0.0, 0.0],\n",
       "    [150.0, 137.0, 150.0, 0.0, -0.0, -0.0],\n",
       "    [150.0, 150.0, 137.0, -0.0, 0.0, -0.0],\n",
       "    [-0.0, 0.0, -0.0, 98.0, 0.0, 0.0],\n",
       "    [0.0, -0.0, 0.0, 0.0, 98.0, 0.0],\n",
       "    [0.0, -0.0, -0.0, 0.0, 0.0, 98.0]],\n",
       "   'homogeneous_poisson': 0.43736737340081105,\n",
       "   'poisson_ratio': 0.43736737340081105,\n",
       "   'universal_anisotropy': -20.617315830427692,\n",
       "   'elastic_tensor_original': [[137.23435775103798,\n",
       "     150.17225544048853,\n",
       "     150.20736652133866,\n",
       "     0.0,\n",
       "     0.00570621333333458,\n",
       "     -0.0016961700000014818],\n",
       "    [150.17956449887507,\n",
       "     137.23059429293244,\n",
       "     150.20736652133866,\n",
       "     0.0011605700000007649,\n",
       "     0.00553183666666768,\n",
       "     -0.001712109999999591],\n",
       "    [150.17956449887507,\n",
       "     150.17225544048853,\n",
       "     137.26733472684245,\n",
       "     0.0,\n",
       "     0.0056197499999995045,\n",
       "     -0.0018734200000007824],\n",
       "    [0.0, 0.0, 0.0, 97.81118299333336, 0.0, 0.0],\n",
       "    [0.0, 0.0, 0.0, 0.0, 97.81105978333335, 0.0],\n",
       "    [0.0, 0.0, 0.0, 0.0, 0.0, 97.81082478666669]],\n",
       "   'nsites': 1,\n",
       "   'compliance_tensor': [[-50.7, 26.5, 26.5, -0.0, -0.0, 0.0],\n",
       "    [26.5, -50.7, 26.5, 0.0, -0.0, -0.0],\n",
       "    [26.5, 26.5, -50.7, -0.0, 0.0, -0.0],\n",
       "    [-0.0, 0.0, -0.0, 10.2, 0.0, 0.0],\n",
       "    [-0.0, -0.0, 0.0, 0.0, 10.2, 0.0],\n",
       "    [0.0, -0.0, -0.0, 0.0, 0.0, 10.2]]},\n",
       "  'full_formula': 'Cu1'}]"
      ]
     },
     "execution_count": 42,
     "metadata": {},
     "output_type": "execute_result"
    }
   ],
   "source": [
    "get_material_vasp_properties(material_id)"
   ]
  },
  {
   "cell_type": "code",
   "execution_count": null,
   "metadata": {},
   "outputs": [],
   "source": []
  }
 ],
 "metadata": {
  "kernelspec": {
   "display_name": "scratch",
   "language": "python",
   "name": "scratch"
  },
  "language_info": {
   "codemirror_mode": {
    "name": "ipython",
    "version": 3
   },
   "file_extension": ".py",
   "mimetype": "text/x-python",
   "name": "python",
   "nbconvert_exporter": "python",
   "pygments_lexer": "ipython3",
   "version": "3.6.5"
  }
 },
 "nbformat": 4,
 "nbformat_minor": 2
}
