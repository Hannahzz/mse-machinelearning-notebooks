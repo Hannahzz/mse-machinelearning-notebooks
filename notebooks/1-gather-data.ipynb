{
 "cells": [
  {
   "cell_type": "markdown",
   "metadata": {},
   "source": [
    "# Gathering and Investigating Materials Project Data\n",
    "\n",
    "This notebooks will show how you can use `requests` and `pandas` so gather and explore your data. Often times you will need to suply your data by other methods."
   ]
  },
  {
   "cell_type": "code",
   "execution_count": 7,
   "metadata": {},
   "outputs": [],
   "source": [
    "import requests\n",
    "import pandas as pd"
   ]
  },
  {
   "cell_type": "markdown",
   "metadata": {},
   "source": [
    "# Getting Materials Project Api KEy\n",
    "\n",
    "This [link](https://www.materialsproject.org/open) details the steps necissary. \n",
    "\n",
    "1. Visit [dashboard](https://materialsproject.org/dashboard) you may need to login\n",
    "2. Generate API key if it has not already been generated and set `API_KEY` to this value.\n",
    "\n",
    "The subprocess method is a way that I store my passwords on my computer and will not work for you."
   ]
  },
  {
   "cell_type": "code",
   "execution_count": 5,
   "metadata": {},
   "outputs": [],
   "source": [
    "import subprocess\n",
    "API_KEY = subprocess.check_output('gopass www/materialsproject.com apikey'.split())\n",
    "# API_KEY = \"<apikey-here>\"\n",
    "# You will need to "
   ]
  },
  {
   "cell_type": "code",
   "execution_count": null,
   "metadata": {},
   "outputs": [],
   "source": []
  }
 ],
 "metadata": {
  "kernelspec": {
   "display_name": "scratch",
   "language": "python",
   "name": "scratch"
  },
  "language_info": {
   "codemirror_mode": {
    "name": "ipython",
    "version": 3
   },
   "file_extension": ".py",
   "mimetype": "text/x-python",
   "name": "python",
   "nbconvert_exporter": "python",
   "pygments_lexer": "ipython3",
   "version": "3.6.5"
  }
 },
 "nbformat": 4,
 "nbformat_minor": 2
}
