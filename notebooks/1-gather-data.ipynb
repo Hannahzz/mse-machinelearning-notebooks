{
 "cells": [
  {
   "cell_type": "markdown",
   "metadata": {},
   "source": [
    "# Gathering and Investigating Materials Project Data\n",
    "\n",
    "This notebooks will show how you can use `requests` and `pandas` so gather and explore your data. Often times you will need to suply your data by other methods."
   ]
  },
  {
   "cell_type": "code",
   "execution_count": 3,
   "metadata": {},
   "outputs": [],
   "source": [
    "import requests\n",
    "import pandas as pd\n",
    "\n",
    "base_url = 'https://materialsproject.org/rest/v2/'"
   ]
  },
  {
   "cell_type": "markdown",
   "metadata": {},
   "source": [
    "# Getting Materials Project Api Key\n",
    "\n",
    "This [link](https://www.materialsproject.org/open) details the steps necissary. \n",
    "\n",
    "1. Visit [dashboard](https://materialsproject.org/dashboard) you may need to login\n",
    "2. Generate API key if it has not already been generated and set `API_KEY` to this value.\n",
    "\n",
    "The subprocess method is a way that I store my passwords on my computer and will not work for you.\n",
    "\n",
    "Afterwards in the next cell we will test that our API key works. \n",
    "\n",
    "This is done by performing a `GET` or `POST` request to `https://www.materialsproject.org/rest/v1/api_check`."
   ]
  },
  {
   "cell_type": "code",
   "execution_count": 4,
   "metadata": {},
   "outputs": [],
   "source": [
    "import subprocess\n",
    "API_KEY = subprocess.check_output('gopass www/materialsproject.com apikey'.split()).decode('utf-8')\n",
    "# API_KEY = \"<apikey-here>\"\n",
    "\n",
    "session = requests.Session()\n",
    "session.headers.update({'X-API-KEY': API_KEY})"
   ]
  },
  {
   "cell_type": "code",
   "execution_count": 5,
   "metadata": {},
   "outputs": [
    {
     "name": "stdout",
     "output_type": "stream",
     "text": [
      "{'valid_response': True, 'api_key_valid': True}\n"
     ]
    }
   ],
   "source": [
    "# for some reason the v2 API does not include an API check method??\n",
    "response = session.get(f'https://www.materialsproject.org/rest/v1/api_check')\n",
    "data = response.json()\n",
    "print(data)\n",
    "\n",
    "if not data['api_key_valid']:\n",
    "    raise ValueError('You are not authenticated!')"
   ]
  },
  {
   "cell_type": "markdown",
   "metadata": {},
   "source": [
    "# Materials Project API\n",
    "\n",
    "The materials project provides a RESTfull API for getting material properties which is detailed [here](https://www.materialsproject.org/docs/api#materials_.28calculated_materials_data.29).\n",
    "\n",
    "If you have followed the steps above you should be ready to parse materials project data.\n",
    "\n",
    "A RESTfull API is a nice way to expose data over the web. While they provide convenient methods for getting each individual material property they have a limit of 500 queries per day so we need to be efficient in our queries. To do this we will use the `npquery` to get properties in batch.\n",
    "\n",
    "Lets start by getting a list of materials that are compossed of the following elements `Fe`, `Ti`, `O`, `C`, `N`, `He`. This does not affect your API limit"
   ]
  },
  {
   "cell_type": "code",
   "execution_count": 82,
   "metadata": {},
   "outputs": [],
   "source": [
    "def get_materials(elements):\n",
    "    elements_str = '-'.join(elements)\n",
    "    response = session.get(f'{base_url}/materials/{elements_str}/mids')\n",
    "    data = response.json()\n",
    "    print(f'Found {len(data[\"response\"])} Materials in the Materials Project with the elements: {elements}')\n",
    "    return data['response']\n",
    "\n",
    "def get_material_vasp_properties(mid, piezoelectric=False, dielelectric=False):\n",
    "    response = session.get(f'{base_url}/materials/{mid}/vasp/')\n",
    "    material_data = response.json()['response'][0]\n",
    "    \n",
    "    if piezoelectric:\n",
    "        response = session.get(f'{base_url}/materials/{mid}/vasp/piezo')\n",
    "        data = response.json()\n",
    "        if not data['valid_response']:\n",
    "            material_data['piezoelectric'] = None\n",
    "        else:\n",
    "            material_data['piezoelectric'] = data['response']\n",
    "        \n",
    "    if dielelectric:\n",
    "        response = session.get(f'{base_url}/materials/{mid}/vasp/diel')\n",
    "        data = response.json()\n",
    "        if not data['valid_response']:\n",
    "            material_data['dielelectric'] = None\n",
    "        else:\n",
    "            material_data['dielelectric'] = data['response']\n",
    "    \n",
    "    return material_data"
   ]
  },
  {
   "cell_type": "code",
   "execution_count": 83,
   "metadata": {},
   "outputs": [
    {
     "name": "stdout",
     "output_type": "stream",
     "text": [
      "Found 253 Materials in the Materials Project with the elements: ['Fe', 'O', 'Ni', 'He', 'Ni', 'Cu']\n"
     ]
    }
   ],
   "source": [
    "material_ids = get_materials(['Fe', 'O', 'Ni', 'He', 'Ni', 'Cu'])"
   ]
  },
  {
   "cell_type": "code",
   "execution_count": 84,
   "metadata": {},
   "outputs": [],
   "source": [
    "material_id = material_ids[20]"
   ]
  },
  {
   "cell_type": "code",
   "execution_count": 85,
   "metadata": {},
   "outputs": [
    {
     "data": {
      "text/plain": [
       "'mp-705571'"
      ]
     },
     "execution_count": 85,
     "metadata": {},
     "output_type": "execute_result"
    }
   ],
   "source": [
    "material_id"
   ]
  },
  {
   "cell_type": "markdown",
   "metadata": {},
   "source": [
    "# Basic VASP properties\n",
    "\n",
    "Includes:\n",
    "\n",
    " - `energy`, `energy_per_atom`, `volume`, `formation_energy_per_atom`, `nsites`, `unit_cell_formula`, `pretty_formula`, `e_above_hull`, `spacegroup`, `icsd_ids`, `cif`, \n",
    "\n",
    " - properties: `band_gap`, `density`, `energry`, `energy_per_atom`, `formation_energy_per_atom`, `elascticity`, `total_magnetization`\n",
    " \n",
    "But some properties are still not included:\n",
    "  \n",
    " -  `piezo`, `diel`"
   ]
  },
  {
   "cell_type": "code",
   "execution_count": 86,
   "metadata": {},
   "outputs": [],
   "source": [
    "# MgO\n",
    "\n",
    "material_id = 'mp-1265'\n",
    "\n",
    "# Na2O\n",
    "\n",
    "material_id = 'mp-776952'"
   ]
  },
  {
   "cell_type": "code",
   "execution_count": 87,
   "metadata": {},
   "outputs": [
    {
     "data": {
      "text/plain": [
       "{'energy': -32.94803928,\n",
       " 'energy_per_atom': -3.6608932533333336,\n",
       " 'volume': 123.22298842543988,\n",
       " 'formation_energy_per_atom': -1.3747529237500007,\n",
       " 'nsites': 9,\n",
       " 'unit_cell_formula': {'Na': 6.0, 'O': 3.0},\n",
       " 'pretty_formula': 'Na2O',\n",
       " 'is_hubbard': False,\n",
       " 'elements': ['Na', 'O'],\n",
       " 'nelements': 2,\n",
       " 'e_above_hull': 0.07964257999999935,\n",
       " 'hubbards': {},\n",
       " 'is_compatible': True,\n",
       " 'spacegroup': {'source': 'spglib',\n",
       "  'symbol': 'P3',\n",
       "  'number': 143,\n",
       "  'point_group': '3',\n",
       "  'crystal_system': 'trigonal',\n",
       "  'hall': 'P 3'},\n",
       " 'task_ids': ['mp-776952',\n",
       "  'mp-788131',\n",
       "  'mp-794064',\n",
       "  'mp-794687',\n",
       "  'mp-1092873',\n",
       "  'mp-1096781'],\n",
       " 'band_gap': 1.5089000000000001,\n",
       " 'density': 2.5056634752592992,\n",
       " 'icsd_id': None,\n",
       " 'icsd_ids': [],\n",
       " 'cif': \"# generated using pymatgen\\ndata_Na2O\\n_symmetry_space_group_name_H-M   'P 1'\\n_cell_length_a   6.19425281\\n_cell_length_b   7.21866638\\n_cell_length_c   7.21895917\\n_cell_angle_alpha   95.98067380\\n_cell_angle_beta   64.59330061\\n_cell_angle_gamma   149.08497211\\n_symmetry_Int_Tables_number   1\\n_chemical_formula_structural   Na2O\\n_chemical_formula_sum   'Na6 O3'\\n_cell_volume   123.22298843\\n_cell_formula_units_Z   3\\nloop_\\n _symmetry_equiv_pos_site_id\\n _symmetry_equiv_pos_as_xyz\\n  1  'x, y, z'\\nloop_\\n _atom_site_type_symbol\\n _atom_site_label\\n _atom_site_symmetry_multiplicity\\n _atom_site_fract_x\\n _atom_site_fract_y\\n _atom_site_fract_z\\n _atom_site_occupancy\\n  Na  Na1  1  0.107976  0.852384  0.069187  1\\n  Na  Na2  1  0.173518  0.766982  0.659340  1\\n  Na  Na3  1  0.148291  0.489928  0.936664  1\\n  Na  Na4  1  0.341583  0.664692  0.256577  1\\n  Na  Na5  1  0.955021  0.019257  0.407462  1\\n  Na  Na6  1  0.310969  0.242930  0.678117  1\\n  O  O7  1  0.524553  0.190963  0.334410  1\\n  O  O8  1  0.930242  0.263290  0.667777  1\\n  O  O9  1  0.393997  0.393770  0.001114  1\\n\",\n",
       " 'total_magnetization': 3.58e-05,\n",
       " 'material_id': 'mp-776952',\n",
       " 'oxide_type': 'oxide',\n",
       " 'tags': [],\n",
       " 'elasticity': {'G_Reuss': 24.29685829614438,\n",
       "  'G_VRH': 25.116782928273675,\n",
       "  'G_Voigt': 25.936707560402972,\n",
       "  'G_Voigt_Reuss_Hill': 25.116782928273675,\n",
       "  'K_Reuss': 46.589498971989656,\n",
       "  'K_VRH': 46.90241442758048,\n",
       "  'K_Voigt': 47.21532988317131,\n",
       "  'K_Voigt_Reuss_Hill': 46.90241442758048,\n",
       "  'elastic_anisotropy': 0.3508940487386436,\n",
       "  'elastic_tensor': [[84.0, 46.0, 19.0, 0.0, -0.0, -0.0],\n",
       "   [46.0, 84.0, 19.0, -0.0, 0.0, -0.0],\n",
       "   [19.0, 19.0, 86.0, 0.0, 0.0, -0.0],\n",
       "   [0.0, -0.0, 0.0, 27.0, -0.0, 0.0],\n",
       "   [-0.0, 0.0, 0.0, -0.0, 27.0, 0.0],\n",
       "   [-0.0, -0.0, -0.0, 0.0, 0.0, 19.0]],\n",
       "  'homogeneous_poisson': 0.2728002675289772,\n",
       "  'poisson_ratio': 0.2728002675289772,\n",
       "  'universal_anisotropy': 0.3508940487386436,\n",
       "  'elastic_tensor_original': [[84.47254681267441,\n",
       "    46.17361560431232,\n",
       "    19.38912363825458,\n",
       "    -0.06534984666666659,\n",
       "    0.07455416333333352,\n",
       "    -0.03964060666666717],\n",
       "   [46.34551926240427,\n",
       "    84.34607298316465,\n",
       "    19.38912367817936,\n",
       "    0.04775752999999891,\n",
       "    -0.05885266,\n",
       "    0.08466657666666523],\n",
       "   [19.193194425556403,\n",
       "    19.527978515495896,\n",
       "    86.10079403393377,\n",
       "    -0.018558456666667004,\n",
       "    0.03597409666666655,\n",
       "    -0.09701061333333418],\n",
       "   [-0.45101996433770175,\n",
       "    0.5209565023696748,\n",
       "    0.0,\n",
       "    26.83410482666667,\n",
       "    0.01064406333333334,\n",
       "    0.06342612000000002],\n",
       "   [-0.0065642719759695205,\n",
       "    0.04907466920498575,\n",
       "    0.0,\n",
       "    0.01524242666666667,\n",
       "    26.99062631000001,\n",
       "    -0.3091655333333334],\n",
       "   [0.0819016991029421,\n",
       "    0.06055772698778529,\n",
       "    0.0,\n",
       "    -0.021101349999999967,\n",
       "    -0.5942635600000001,\n",
       "    19.22209455666667]],\n",
       "  'nsites': 9,\n",
       "  'compliance_tensor': [[17.2, -9.0, -1.8, -0.4, 0.0, 0.0],\n",
       "   [-9.0, 17.2, -1.8, 0.4, -0.0, 0.0],\n",
       "   [-1.8, -1.8, 12.4, 0.0, 0.0, -0.0],\n",
       "   [-0.4, 0.4, 0.0, 37.2, 0.0, -0.0],\n",
       "   [-0.0, -0.0, 0.0, 0.0, 37.2, -0.7],\n",
       "   [0.0, 0.0, -0.0, -0.0, -0.7, 52.2]]},\n",
       " 'full_formula': 'Na6O3',\n",
       " 'piezoelectric': None,\n",
       " 'dielelectric': None}"
      ]
     },
     "execution_count": 87,
     "metadata": {},
     "output_type": "execute_result"
    }
   ],
   "source": [
    "get_material_vasp_properties(material_id, piezoelectric=True, dielelectric=True)"
   ]
  },
  {
   "cell_type": "code",
   "execution_count": null,
   "metadata": {},
   "outputs": [],
   "source": []
  },
  {
   "cell_type": "code",
   "execution_count": null,
   "metadata": {},
   "outputs": [],
   "source": []
  }
 ],
 "metadata": {
  "kernelspec": {
   "display_name": "scratch",
   "language": "python",
   "name": "scratch"
  },
  "language_info": {
   "codemirror_mode": {
    "name": "ipython",
    "version": 3
   },
   "file_extension": ".py",
   "mimetype": "text/x-python",
   "name": "python",
   "nbconvert_exporter": "python",
   "pygments_lexer": "ipython3",
   "version": "3.6.5"
  }
 },
 "nbformat": 4,
 "nbformat_minor": 2
}
